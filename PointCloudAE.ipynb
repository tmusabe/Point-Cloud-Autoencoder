{
 "cells": [
  {
   "cell_type": "code",
   "execution_count": 1,
   "metadata": {},
   "outputs": [],
   "source": [
    "import numpy as np\n",
    "import time\n",
    "import utils\n",
    "import matplotlib.pyplot as plt\n",
    "%matplotlib inline\n",
    "import torch\n",
    "import model\n",
    "import torch.optim as optim"
   ]
  },
  {
   "cell_type": "code",
   "execution_count": 2,
   "metadata": {},
   "outputs": [],
   "source": [
    "batch_size = 32\n",
    "output_folder = \"output/\" # folder path to save the results\n",
    "save_results = True # save the results to output_folder\n",
    "use_GPU = True # use GPU, False to use CPU\n",
    "latent_size = 128 # bottleneck size of the Autoencoder model"
   ]
  },
  {
   "cell_type": "code",
   "execution_count": 3,
   "metadata": {},
   "outputs": [
    {
     "name": "stdout",
     "output_type": "stream",
     "text": [
      "(3746, 1024, 3)\n",
      "1024\n"
     ]
    }
   ],
   "source": [
    "from Dataloaders import GetDataLoaders\n",
    "\n",
    "pc_array = np.load(\"data/chair_set.npy\")\n",
    "print(pc_array.shape)\n",
    "\n",
    "# load dataset from numpy array and divide 90%-10% randomly for train and test sets\n",
    "train_loader, test_loader = GetDataLoaders(npArray=pc_array, batch_size=batch_size)\n",
    "\n",
    "# Assuming all models have the same size, get the point size from the first model\n",
    "point_size = len(train_loader.dataset[0])\n",
    "print(point_size)"
   ]
  },
  {
   "cell_type": "code",
   "execution_count": 4,
   "metadata": {},
   "outputs": [],
   "source": [
    "net = model.PointCloudAE(point_size,latent_size)\n",
    "\n",
    "if(use_GPU):\n",
    "    device = torch.device(\"cuda:0\")\n",
    "    if torch.cuda.device_count() > 1: # if there are multiple GPUs use all\n",
    "        net = torch.nn.DataParallel(net)\n",
    "else:\n",
    "    device = torch.device(\"cpu\")\n",
    "\n",
    "net = net.to(device)"
   ]
  },
  {
   "cell_type": "code",
   "execution_count": null,
   "metadata": {},
   "outputs": [],
   "source": [
    "from kaolin.metrics.pointcloud import chamfer_distance # chamfer distance for calculating point cloud distance\n",
    "\n",
    "optimizer = optim.Adam(net.parameters(), lr=0.0005)"
   ]
  },
  {
   "cell_type": "code",
   "execution_count": null,
   "metadata": {},
   "outputs": [],
   "source": [
    "def train_epoch():\n",
    "    epoch_loss = 0\n",
    "    for i, data in enumerate(train_loader):\n",
    "        optimizer.zero_grad()\n",
    "        \n",
    "        data = data.to(device)\n",
    "        output = net(data.permute(0,2,1)) # transpose data for NumberxChannelxSize format\n",
    "        loss = chamfer_distance(data, output).mean()\n",
    "        loss.backward()\n",
    "        optimizer.step()\n",
    "        \n",
    "        epoch_loss += loss.item()\n",
    "        \n",
    "    return epoch_loss/i"
   ]
  },
  {
   "cell_type": "code",
   "execution_count": null,
   "metadata": {},
   "outputs": [],
   "source": [
    "def test_batch(data): # test with a batch of inputs\n",
    "    with torch.no_grad():\n",
    "        data = data.to(device)\n",
    "        output = net(data.permute(0,2,1))\n",
    "        loss = chamfer_distance(data, output).mean()\n",
    "        \n",
    "    return loss.item(), output.cpu()"
   ]
  },
  {
   "cell_type": "code",
   "execution_count": 8,
   "metadata": {},
   "outputs": [],
   "source": [
    "def test_epoch(): # test with all test set\n",
    "    with torch.no_grad():\n",
    "        epoch_loss = 0\n",
    "        for i, data in enumerate(test_loader):\n",
    "            loss, output = test_batch(data)\n",
    "            epoch_loss += loss\n",
    "\n",
    "    return epoch_loss/i"
   ]
  },
  {
   "cell_type": "code",
   "execution_count": 9,
   "metadata": {},
   "outputs": [],
   "source": [
    "if(save_results):\n",
    "    utils.clear_folder(output_folder)"
   ]
  },
  {
   "cell_type": "code",
   "execution_count": 10,
   "metadata": {},
   "outputs": [],
   "source": [
    "train_loss_list = []  \n",
    "test_loss_list = []  \n",
    "\n",
    "for i in range(1001) :\n",
    "\n",
    "    startTime = time.time()\n",
    "    \n",
    "    train_loss = train_epoch() #train one epoch, get the average loss\n",
    "    train_loss_list.append(train_loss)\n",
    "    \n",
    "    test_loss = test_epoch() # test with test set\n",
    "    test_loss_list.append(test_loss)\n",
    "    \n",
    "    epoch_time = time.time() - startTime\n",
    "    \n",
    "    writeString = \"epoch \" + str(i) + \" train loss : \" + str(train_loss) + \" test loss : \" + str(test_loss) + \" epoch time : \" + str(epoch_time) + \"\\n\"\n",
    "    \n",
    "    # plot train/test loss graph\n",
    "    plt.plot(train_loss_list, label=\"Train\")\n",
    "    plt.plot(test_loss_list, label=\"Test\")\n",
    "    plt.legend()\n",
    "\n",
    "    if(save_results): # save all outputs to the save folder\n",
    "\n",
    "        # write the text output to file\n",
    "        with open(output_folder + \"prints.txt\",\"a\") as file: \n",
    "            file.write(writeString)\n",
    "\n",
    "        # update the loss graph\n",
    "        plt.savefig(output_folder + \"loss.png\")\n",
    "        plt.close()\n",
    "\n",
    "        # save input/output as image file\n",
    "        if(i%50==0):\n",
    "            test_samples = next(iter(test_loader))\n",
    "            loss , test_output = test_batch(test_samples)\n",
    "            utils.plotPCbatch(test_samples, test_output, show=False, save=True, name = (output_folder  + \"epoch_\" + str(i)))\n",
    "\n",
    "    else : # display all outputs\n",
    "        \n",
    "        test_samples = next(iter(test_loader))\n",
    "        loss , test_output = test_batch(test_samples)\n",
    "        utils.plotPCbatch(test_samples,test_output)\n",
    "\n",
    "        print(writeString)\n",
    "\n",
    "        plt.show()\n",
    "\n",
    "        \n"
   ]
  }
 ],
 "metadata": {
  "kernelspec": {
   "display_name": "Python 3",
   "language": "python",
   "name": "python3"
  },
  "language_info": {
   "codemirror_mode": {
    "name": "ipython",
    "version": 3
   },
   "file_extension": ".py",
   "mimetype": "text/x-python",
   "name": "python",
   "nbconvert_exporter": "python",
   "pygments_lexer": "ipython3",
   "version": "3.6.9"
  }
 },
 "nbformat": 4,
 "nbformat_minor": 4
}
